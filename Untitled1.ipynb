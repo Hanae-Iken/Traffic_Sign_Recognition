{
 "cells": [
  {
   "cell_type": "code",
   "execution_count": 229,
   "id": "498c4d08-f64b-4aa3-a5b3-00fd27ae7bdc",
   "metadata": {},
   "outputs": [],
   "source": [
    "import os\n",
    "from PIL import Image\n",
    "import matplotlib.pyplot as plt\n",
    "import numpy as np\n",
    "from sklearn.model_selection import train_test_split\n",
    "from tensorflow.keras.utils import to_categorical\n",
    "import pickle\n",
    "from tensorflow.keras.models import Sequential,load_model\n",
    "from tensorflow.keras.layers import Dense,Dropout, Conv2D, Flatten, MaxPool2D\n",
    "import pandas as pd\n",
    "from sklearn.metrics import accuracy_score"
   ]
  },
  {
   "cell_type": "code",
   "execution_count": 46,
   "id": "78c2c45a-28e0-4def-a48d-e864778782a5",
   "metadata": {},
   "outputs": [],
   "source": [
    "\n",
    "\n",
    "def fetch_traffic_images(traffic_path):\n",
    "    num_classes =  43\n",
    "    traffic_images=[]\n",
    "    labels = []\n",
    "    \n",
    "    for label in range(num_classes):\n",
    "        train_folders = os.path.join(traffic_path,'Train',str(label))\n",
    "        imgs = os.listdir(train_folders)\n",
    "        for img in imgs:\n",
    "            image = Image.open(train_folders+'\\\\'+img)\n",
    "            image = image.resize((30,30))\n",
    "            image = np.array(image)\n",
    "            traffic_images.append(image)\n",
    "            labels.append(label)\n",
    "    return traffic_images,labels\n",
    "\n",
    "\n",
    " \n",
    "\n"
   ]
  },
  {
   "cell_type": "code",
   "execution_count": 50,
   "id": "aa4d2b18-ac1d-4626-a1cc-f4a9e6695c89",
   "metadata": {},
   "outputs": [],
   "source": [
    "general_path = 'C:\\\\Users\\\\Abir\\\\Documents\\\\Image processing\\\\Traffic Signs V1\\\\data'\n",
    "X, Y = fetch_traffic_images(general_path)"
   ]
  },
  {
   "cell_type": "code",
   "execution_count": 64,
   "id": "fa04e0ac-b64a-4f54-9ff5-9bba37024895",
   "metadata": {},
   "outputs": [
    {
     "data": {
      "image/png": "[encoded data removed]",
      "text/plain": [
       "<Figure size 640x480 with 1 Axes>"
      ]
     },
     "metadata": {},
     "output_type": "display_data"
    }
   ],
   "source": [
    "plt.imshow(X[80]);\n",
    "plt.axis('off')\n",
    "Y = np.array(Y)\n",
    "X = np.array(X)"
   ]
  },
  {
   "cell_type": "code",
   "execution_count": 110,
   "id": "40e72d76-1fe9-45de-98b9-b91848bb7da9",
   "metadata": {},
   "outputs": [],
   "source": [
    "path = os.path.join(general_path,'Classes.txt')\n",
    "file = open(path)\n",
    "classes = {}\n",
    "for line in file:\n",
    "    data = line.split('-')\n",
    "    classes.update({data[0]:data[1]})\n"
   ]
  },
  {
   "cell_type": "code",
   "execution_count": 139,
   "id": "0086a6b0-5862-49df-8b0d-b117701c323a",
   "metadata": {},
   "outputs": [
    {
     "name": "stdout",
     "output_type": "stream",
     "text": [
      "(31367, 30, 30, 3) (7842, 30, 30, 3) (31367,) (7842,)\n"
     ]
    }
   ],
   "source": [
    "trainX,testX, trainY,testY = train_test_split(X,Y, test_size=0.2,random_state=42,shuffle = True)\n",
    "print(trainX.shape, testX.shape, trainY.shape, testY.shape)"
   ]
  },
  {
   "cell_type": "code",
   "execution_count": 137,
   "id": "30aa0126-06b1-4860-aa93-8304c834fc83",
   "metadata": {},
   "outputs": [
    {
     "data": {
      "text/plain": [
       "array([0., 0., 0., 0., 0., 0., 0., 0., 0., 0., 0., 0., 0., 0., 0., 0., 0.,\n",
       "       1., 0., 0., 0., 0., 0., 0., 0., 0., 0., 0., 0., 0., 0., 0., 0., 0.,\n",
       "       0., 0., 0., 0., 0., 0., 0., 0., 0.])"
      ]
     },
     "execution_count": 137,
     "metadata": {},
     "output_type": "execute_result"
    }
   ],
   "source": [
    "# classes[str(Y[1]+1)]\n",
    "length = len(classes)\n",
    "train_y = to_categorical(trainY,length)\n",
    "test_y = to_categorical(testY,length)\n",
    "\n",
    "train_y.shape\n",
    "test_y[800]"
   ]
  },
  {
   "cell_type": "code",
   "execution_count": 145,
   "id": "4046f9c3-6133-4de2-9926-ffab5362ef41",
   "metadata": {},
   "outputs": [],
   "source": [
    "pickle.dump(trainX,open(general_path+'\\\\'+'trainX.h5','wb'))\n",
    "pickle.dump(testX,open(general_path+'\\\\'+'testX.h5','wb'))\n",
    "pickle.dump(train_y,open(general_path+'\\\\'+'trainY.h5','wb'))\n",
    "pickle.dump(test_y,open(general_path+'\\\\'+'testY.h5','wb'))\n"
   ]
  },
  {
   "cell_type": "code",
   "execution_count": 151,
   "id": "9231be11-e8dc-4c1b-811d-89152a90120b",
   "metadata": {},
   "outputs": [],
   "source": [
    "def createModel(inputShape,outputSize):\n",
    "    model = Sequential()\n",
    "    model.add(Conv2D(64, kernel_size=(5,5), activation='relu', input_shape=inputShape))\n",
    "    model.add(Conv2D(64, kernel_size=(5,5), activation='relu'))\n",
    "    model.add(MaxPool2D(pool_size=(2,2)))\n",
    "    model.add(Dropout(0.3))\n",
    "\n",
    "    model.add(Conv2D(32, kernel_size=(5,5), activation='relu'))\n",
    "    model.add(Conv2D(32, kernel_size=(5,5), activation='relu'))\n",
    "    model.add(MaxPool2D(pool_size=(2,2)))\n",
    "    model.add(Dropout(0.3))\n",
    "\n",
    "    model.add(Flatten())\n",
    "\n",
    "    model.add(Dense(128,activation='relu'))\n",
    "    model.add(Dense(outputSize,activation='softmax'))\n",
    "\n",
    "    return model\n",
    "\n",
    "              \n",
    "    \n",
    "    "
   ]
  },
  {
   "cell_type": "code",
   "execution_count": 161,
   "id": "e5c910c5-22ce-418e-8967-39f6974deb5f",
   "metadata": {},
   "outputs": [
    {
     "data": {
      "text/html": [
       "<pre style=\"white-space:pre;overflow-x:auto;line-height:normal;font-family:Menlo,'DejaVu Sans Mono',consolas,'Courier New',monospace\"><span style=\"font-weight: bold\">Model: \"sequential_1\"</span>\n",
       "</pre>\n"
      ],
      "text/plain": [
       "\u001b[1mModel: \"sequential_1\"\u001b[0m\n"
      ]
     },
     "metadata": {},
     "output_type": "display_data"
    },
    {
     "data": {
      "text/html": [
       "<pre style=\"white-space:pre;overflow-x:auto;line-height:normal;font-family:Menlo,'DejaVu Sans Mono',consolas,'Courier New',monospace\">┏━━━━━━━━━━━━━━━━━━━━━━━━━━━━━━━━━┳━━━━━━━━━━━━━━━━━━━━━━━━┳━━━━━━━━━━━━━━━┓\n",
       "┃<span style=\"font-weight: bold\"> Layer (type)                    </span>┃<span style=\"font-weight: bold\"> Output Shape           </span>┃<span style=\"font-weight: bold\">       Param # </span>┃\n",
       "┡━━━━━━━━━━━━━━━━━━━━━━━━━━━━━━━━━╇━━━━━━━━━━━━━━━━━━━━━━━━╇━━━━━━━━━━━━━━━┩\n",
       "│ conv2d_4 (<span style=\"color: #0087ff; text-decoration-color: #0087ff\">Conv2D</span>)               │ (<span style=\"color: #00d7ff; text-decoration-color: #00d7ff\">None</span>, <span style=\"color: #00af00; text-decoration-color: #00af00\">26</span>, <span style=\"color: #00af00; text-decoration-color: #00af00\">26</span>, <span style=\"color: #00af00; text-decoration-color: #00af00\">64</span>)     │         <span style=\"color: #00af00; text-decoration-color: #00af00\">4,864</span> │\n",
       "├─────────────────────────────────┼────────────────────────┼───────────────┤\n",
       "│ conv2d_5 (<span style=\"color: #0087ff; text-decoration-color: #0087ff\">Conv2D</span>)               │ (<span style=\"color: #00d7ff; text-decoration-color: #00d7ff\">None</span>, <span style=\"color: #00af00; text-decoration-color: #00af00\">22</span>, <span style=\"color: #00af00; text-decoration-color: #00af00\">22</span>, <span style=\"color: #00af00; text-decoration-color: #00af00\">64</span>)     │       <span style=\"color: #00af00; text-decoration-color: #00af00\">102,464</span> │\n",
       "├─────────────────────────────────┼────────────────────────┼───────────────┤\n",
       "│ max_pooling2d_2 (<span style=\"color: #0087ff; text-decoration-color: #0087ff\">MaxPooling2D</span>)  │ (<span style=\"color: #00d7ff; text-decoration-color: #00d7ff\">None</span>, <span style=\"color: #00af00; text-decoration-color: #00af00\">11</span>, <span style=\"color: #00af00; text-decoration-color: #00af00\">11</span>, <span style=\"color: #00af00; text-decoration-color: #00af00\">64</span>)     │             <span style=\"color: #00af00; text-decoration-color: #00af00\">0</span> │\n",
       "├─────────────────────────────────┼────────────────────────┼───────────────┤\n",
       "│ dropout_2 (<span style=\"color: #0087ff; text-decoration-color: #0087ff\">Dropout</span>)             │ (<span style=\"color: #00d7ff; text-decoration-color: #00d7ff\">None</span>, <span style=\"color: #00af00; text-decoration-color: #00af00\">11</span>, <span style=\"color: #00af00; text-decoration-color: #00af00\">11</span>, <span style=\"color: #00af00; text-decoration-color: #00af00\">64</span>)     │             <span style=\"color: #00af00; text-decoration-color: #00af00\">0</span> │\n",
       "├─────────────────────────────────┼────────────────────────┼───────────────┤\n",
       "│ conv2d_6 (<span style=\"color: #0087ff; text-decoration-color: #0087ff\">Conv2D</span>)               │ (<span style=\"color: #00d7ff; text-decoration-color: #00d7ff\">None</span>, <span style=\"color: #00af00; text-decoration-color: #00af00\">7</span>, <span style=\"color: #00af00; text-decoration-color: #00af00\">7</span>, <span style=\"color: #00af00; text-decoration-color: #00af00\">32</span>)       │        <span style=\"color: #00af00; text-decoration-color: #00af00\">51,232</span> │\n",
       "├─────────────────────────────────┼────────────────────────┼───────────────┤\n",
       "│ conv2d_7 (<span style=\"color: #0087ff; text-decoration-color: #0087ff\">Conv2D</span>)               │ (<span style=\"color: #00d7ff; text-decoration-color: #00d7ff\">None</span>, <span style=\"color: #00af00; text-decoration-color: #00af00\">3</span>, <span style=\"color: #00af00; text-decoration-color: #00af00\">3</span>, <span style=\"color: #00af00; text-decoration-color: #00af00\">32</span>)       │        <span style=\"color: #00af00; text-decoration-color: #00af00\">25,632</span> │\n",
       "├─────────────────────────────────┼────────────────────────┼───────────────┤\n",
       "│ max_pooling2d_3 (<span style=\"color: #0087ff; text-decoration-color: #0087ff\">MaxPooling2D</span>)  │ (<span style=\"color: #00d7ff; text-decoration-color: #00d7ff\">None</span>, <span style=\"color: #00af00; text-decoration-color: #00af00\">1</span>, <span style=\"color: #00af00; text-decoration-color: #00af00\">1</span>, <span style=\"color: #00af00; text-decoration-color: #00af00\">32</span>)       │             <span style=\"color: #00af00; text-decoration-color: #00af00\">0</span> │\n",
       "├─────────────────────────────────┼────────────────────────┼───────────────┤\n",
       "│ dropout_3 (<span style=\"color: #0087ff; text-decoration-color: #0087ff\">Dropout</span>)             │ (<span style=\"color: #00d7ff; text-decoration-color: #00d7ff\">None</span>, <span style=\"color: #00af00; text-decoration-color: #00af00\">1</span>, <span style=\"color: #00af00; text-decoration-color: #00af00\">1</span>, <span style=\"color: #00af00; text-decoration-color: #00af00\">32</span>)       │             <span style=\"color: #00af00; text-decoration-color: #00af00\">0</span> │\n",
       "├─────────────────────────────────┼────────────────────────┼───────────────┤\n",
       "│ flatten_1 (<span style=\"color: #0087ff; text-decoration-color: #0087ff\">Flatten</span>)             │ (<span style=\"color: #00d7ff; text-decoration-color: #00d7ff\">None</span>, <span style=\"color: #00af00; text-decoration-color: #00af00\">32</span>)             │             <span style=\"color: #00af00; text-decoration-color: #00af00\">0</span> │\n",
       "├─────────────────────────────────┼────────────────────────┼───────────────┤\n",
       "│ dense_2 (<span style=\"color: #0087ff; text-decoration-color: #0087ff\">Dense</span>)                 │ (<span style=\"color: #00d7ff; text-decoration-color: #00d7ff\">None</span>, <span style=\"color: #00af00; text-decoration-color: #00af00\">128</span>)            │         <span style=\"color: #00af00; text-decoration-color: #00af00\">4,224</span> │\n",
       "├─────────────────────────────────┼────────────────────────┼───────────────┤\n",
       "│ dense_3 (<span style=\"color: #0087ff; text-decoration-color: #0087ff\">Dense</span>)                 │ (<span style=\"color: #00d7ff; text-decoration-color: #00d7ff\">None</span>, <span style=\"color: #00af00; text-decoration-color: #00af00\">43</span>)             │         <span style=\"color: #00af00; text-decoration-color: #00af00\">5,547</span> │\n",
       "└─────────────────────────────────┴────────────────────────┴───────────────┘\n",
       "</pre>\n"
      ],
      "text/plain": [
       "┏━━━━━━━━━━━━━━━━━━━━━━━━━━━━━━━━━┳━━━━━━━━━━━━━━━━━━━━━━━━┳━━━━━━━━━━━━━━━┓\n",
       "┃\u001b[1m \u001b[0m\u001b[1mLayer (type)                   \u001b[0m\u001b[1m \u001b[0m┃\u001b[1m \u001b[0m\u001b[1mOutput Shape          \u001b[0m\u001b[1m \u001b[0m┃\u001b[1m \u001b[0m\u001b[1m      Param #\u001b[0m\u001b[1m \u001b[0m┃\n",
       "┡━━━━━━━━━━━━━━━━━━━━━━━━━━━━━━━━━╇━━━━━━━━━━━━━━━━━━━━━━━━╇━━━━━━━━━━━━━━━┩\n",
       "│ conv2d_4 (\u001b[38;5;33mConv2D\u001b[0m)               │ (\u001b[38;5;45mNone\u001b[0m, \u001b[38;5;34m26\u001b[0m, \u001b[38;5;34m26\u001b[0m, \u001b[38;5;34m64\u001b[0m)     │         \u001b[38;5;34m4,864\u001b[0m │\n",
       "├─────────────────────────────────┼────────────────────────┼───────────────┤\n",
       "│ conv2d_5 (\u001b[38;5;33mConv2D\u001b[0m)               │ (\u001b[38;5;45mNone\u001b[0m, \u001b[38;5;34m22\u001b[0m, \u001b[38;5;34m22\u001b[0m, \u001b[38;5;34m64\u001b[0m)     │       \u001b[38;5;34m102,464\u001b[0m │\n",
       "├─────────────────────────────────┼────────────────────────┼───────────────┤\n",
       "│ max_pooling2d_2 (\u001b[38;5;33mMaxPooling2D\u001b[0m)  │ (\u001b[38;5;45mNone\u001b[0m, \u001b[38;5;34m11\u001b[0m, \u001b[38;5;34m11\u001b[0m, \u001b[38;5;34m64\u001b[0m)     │             \u001b[38;5;34m0\u001b[0m │\n",
       "├─────────────────────────────────┼────────────────────────┼───────────────┤\n",
       "│ dropout_2 (\u001b[38;5;33mDropout\u001b[0m)             │ (\u001b[38;5;45mNone\u001b[0m, \u001b[38;5;34m11\u001b[0m, \u001b[38;5;34m11\u001b[0m, \u001b[38;5;34m64\u001b[0m)     │             \u001b[38;5;34m0\u001b[0m │\n",
       "├─────────────────────────────────┼────────────────────────┼───────────────┤\n",
       "│ conv2d_6 (\u001b[38;5;33mConv2D\u001b[0m)               │ (\u001b[38;5;45mNone\u001b[0m, \u001b[38;5;34m7\u001b[0m, \u001b[38;5;34m7\u001b[0m, \u001b[38;5;34m32\u001b[0m)       │        \u001b[38;5;34m51,232\u001b[0m │\n",
       "├─────────────────────────────────┼────────────────────────┼───────────────┤\n",
       "│ conv2d_7 (\u001b[38;5;33mConv2D\u001b[0m)               │ (\u001b[38;5;45mNone\u001b[0m, \u001b[38;5;34m3\u001b[0m, \u001b[38;5;34m3\u001b[0m, \u001b[38;5;34m32\u001b[0m)       │        \u001b[38;5;34m25,632\u001b[0m │\n",
       "├─────────────────────────────────┼────────────────────────┼───────────────┤\n",
       "│ max_pooling2d_3 (\u001b[38;5;33mMaxPooling2D\u001b[0m)  │ (\u001b[38;5;45mNone\u001b[0m, \u001b[38;5;34m1\u001b[0m, \u001b[38;5;34m1\u001b[0m, \u001b[38;5;34m32\u001b[0m)       │             \u001b[38;5;34m0\u001b[0m │\n",
       "├─────────────────────────────────┼────────────────────────┼───────────────┤\n",
       "│ dropout_3 (\u001b[38;5;33mDropout\u001b[0m)             │ (\u001b[38;5;45mNone\u001b[0m, \u001b[38;5;34m1\u001b[0m, \u001b[38;5;34m1\u001b[0m, \u001b[38;5;34m32\u001b[0m)       │             \u001b[38;5;34m0\u001b[0m │\n",
       "├─────────────────────────────────┼────────────────────────┼───────────────┤\n",
       "│ flatten_1 (\u001b[38;5;33mFlatten\u001b[0m)             │ (\u001b[38;5;45mNone\u001b[0m, \u001b[38;5;34m32\u001b[0m)             │             \u001b[38;5;34m0\u001b[0m │\n",
       "├─────────────────────────────────┼────────────────────────┼───────────────┤\n",
       "│ dense_2 (\u001b[38;5;33mDense\u001b[0m)                 │ (\u001b[38;5;45mNone\u001b[0m, \u001b[38;5;34m128\u001b[0m)            │         \u001b[38;5;34m4,224\u001b[0m │\n",
       "├─────────────────────────────────┼────────────────────────┼───────────────┤\n",
       "│ dense_3 (\u001b[38;5;33mDense\u001b[0m)                 │ (\u001b[38;5;45mNone\u001b[0m, \u001b[38;5;34m43\u001b[0m)             │         \u001b[38;5;34m5,547\u001b[0m │\n",
       "└─────────────────────────────────┴────────────────────────┴───────────────┘\n"
      ]
     },
     "metadata": {},
     "output_type": "display_data"
    },
    {
     "data": {
      "text/html": [
       "<pre style=\"white-space:pre;overflow-x:auto;line-height:normal;font-family:Menlo,'DejaVu Sans Mono',consolas,'Courier New',monospace\"><span style=\"font-weight: bold\"> Total params: </span><span style=\"color: #00af00; text-decoration-color: #00af00\">193,963</span> (757.67 KB)\n",
       "</pre>\n"
      ],
      "text/plain": [
       "\u001b[1m Total params: \u001b[0m\u001b[38;5;34m193,963\u001b[0m (757.67 KB)\n"
      ]
     },
     "metadata": {},
     "output_type": "display_data"
    },
    {
     "data": {
      "text/html": [
       "<pre style=\"white-space:pre;overflow-x:auto;line-height:normal;font-family:Menlo,'DejaVu Sans Mono',consolas,'Courier New',monospace\"><span style=\"font-weight: bold\"> Trainable params: </span><span style=\"color: #00af00; text-decoration-color: #00af00\">193,963</span> (757.67 KB)\n",
       "</pre>\n"
      ],
      "text/plain": [
       "\u001b[1m Trainable params: \u001b[0m\u001b[38;5;34m193,963\u001b[0m (757.67 KB)\n"
      ]
     },
     "metadata": {},
     "output_type": "display_data"
    },
    {
     "data": {
      "text/html": [
       "<pre style=\"white-space:pre;overflow-x:auto;line-height:normal;font-family:Menlo,'DejaVu Sans Mono',consolas,'Courier New',monospace\"><span style=\"font-weight: bold\"> Non-trainable params: </span><span style=\"color: #00af00; text-decoration-color: #00af00\">0</span> (0.00 B)\n",
       "</pre>\n"
      ],
      "text/plain": [
       "\u001b[1m Non-trainable params: \u001b[0m\u001b[38;5;34m0\u001b[0m (0.00 B)\n"
      ]
     },
     "metadata": {},
     "output_type": "display_data"
    }
   ],
   "source": [
    "model = createModel(trainX.shape[1:],length)\n",
    "model.summary();"
   ]
  },
  {
   "cell_type": "code",
   "execution_count": 163,
   "id": "9d588803-e5ea-4f20-9e7c-fcecd57786de",
   "metadata": {},
   "outputs": [
    {
     "name": "stdout",
     "output_type": "stream",
     "text": [
      "Epoch 1/16\n",
      "\u001b[1m981/981\u001b[0m \u001b[32m━━━━━━━━━━━━━━━━━━━━\u001b[0m\u001b[37m\u001b[0m \u001b[1m108s\u001b[0m 108ms/step - accuracy: 0.1796 - loss: 3.3738 - val_accuracy: 0.7409 - val_loss: 0.9776\n",
      "Epoch 2/16\n",
      "\u001b[1m981/981\u001b[0m \u001b[32m━━━━━━━━━━━━━━━━━━━━\u001b[0m\u001b[37m\u001b[0m \u001b[1m111s\u001b[0m 113ms/step - accuracy: 0.6260 - loss: 1.2743 - val_accuracy: 0.9206 - val_loss: 0.3076\n",
      "Epoch 3/16\n",
      "\u001b[1m981/981\u001b[0m \u001b[32m━━━━━━━━━━━━━━━━━━━━\u001b[0m\u001b[37m\u001b[0m \u001b[1m100s\u001b[0m 102ms/step - accuracy: 0.7941 - loss: 0.7079 - val_accuracy: 0.9417 - val_loss: 0.2449\n",
      "Epoch 4/16\n",
      "\u001b[1m981/981\u001b[0m \u001b[32m━━━━━━━━━━━━━━━━━━━━\u001b[0m\u001b[37m\u001b[0m \u001b[1m101s\u001b[0m 103ms/step - accuracy: 0.8489 - loss: 0.5126 - val_accuracy: 0.9565 - val_loss: 0.1728\n",
      "Epoch 5/16\n",
      "\u001b[1m981/981\u001b[0m \u001b[32m━━━━━━━━━━━━━━━━━━━━\u001b[0m\u001b[37m\u001b[0m \u001b[1m100s\u001b[0m 102ms/step - accuracy: 0.8730 - loss: 0.4434 - val_accuracy: 0.9529 - val_loss: 0.1634\n",
      "Epoch 6/16\n",
      "\u001b[1m981/981\u001b[0m \u001b[32m━━━━━━━━━━━━━━━━━━━━\u001b[0m\u001b[37m\u001b[0m \u001b[1m101s\u001b[0m 103ms/step - accuracy: 0.8919 - loss: 0.3844 - val_accuracy: 0.9739 - val_loss: 0.1113\n",
      "Epoch 7/16\n",
      "\u001b[1m981/981\u001b[0m \u001b[32m━━━━━━━━━━━━━━━━━━━━\u001b[0m\u001b[37m\u001b[0m \u001b[1m102s\u001b[0m 104ms/step - accuracy: 0.9056 - loss: 0.3287 - val_accuracy: 0.9806 - val_loss: 0.0917\n",
      "Epoch 8/16\n",
      "\u001b[1m981/981\u001b[0m \u001b[32m━━━━━━━━━━━━━━━━━━━━\u001b[0m\u001b[37m\u001b[0m \u001b[1m138s\u001b[0m 141ms/step - accuracy: 0.9120 - loss: 0.3114 - val_accuracy: 0.9782 - val_loss: 0.0836\n",
      "Epoch 9/16\n",
      "\u001b[1m981/981\u001b[0m \u001b[32m━━━━━━━━━━━━━━━━━━━━\u001b[0m\u001b[37m\u001b[0m \u001b[1m164s\u001b[0m 164ms/step - accuracy: 0.9244 - loss: 0.2828 - val_accuracy: 0.9712 - val_loss: 0.1111\n",
      "Epoch 10/16\n",
      "\u001b[1m981/981\u001b[0m \u001b[32m━━━━━━━━━━━━━━━━━━━━\u001b[0m\u001b[37m\u001b[0m \u001b[1m162s\u001b[0m 165ms/step - accuracy: 0.9178 - loss: 0.2961 - val_accuracy: 0.9731 - val_loss: 0.1124\n",
      "Epoch 11/16\n",
      "\u001b[1m981/981\u001b[0m \u001b[32m━━━━━━━━━━━━━━━━━━━━\u001b[0m\u001b[37m\u001b[0m \u001b[1m161s\u001b[0m 164ms/step - accuracy: 0.9238 - loss: 0.2847 - val_accuracy: 0.9741 - val_loss: 0.1083\n",
      "Epoch 12/16\n",
      "\u001b[1m981/981\u001b[0m \u001b[32m━━━━━━━━━━━━━━━━━━━━\u001b[0m\u001b[37m\u001b[0m \u001b[1m159s\u001b[0m 162ms/step - accuracy: 0.9361 - loss: 0.2412 - val_accuracy: 0.9777 - val_loss: 0.0920\n",
      "Epoch 13/16\n",
      "\u001b[1m981/981\u001b[0m \u001b[32m━━━━━━━━━━━━━━━━━━━━\u001b[0m\u001b[37m\u001b[0m \u001b[1m158s\u001b[0m 161ms/step - accuracy: 0.9321 - loss: 0.2501 - val_accuracy: 0.9889 - val_loss: 0.0470\n",
      "Epoch 14/16\n",
      "\u001b[1m981/981\u001b[0m \u001b[32m━━━━━━━━━━━━━━━━━━━━\u001b[0m\u001b[37m\u001b[0m \u001b[1m159s\u001b[0m 162ms/step - accuracy: 0.9403 - loss: 0.2355 - val_accuracy: 0.9828 - val_loss: 0.0701\n",
      "Epoch 15/16\n",
      "\u001b[1m981/981\u001b[0m \u001b[32m━━━━━━━━━━━━━━━━━━━━\u001b[0m\u001b[37m\u001b[0m \u001b[1m158s\u001b[0m 161ms/step - accuracy: 0.9354 - loss: 0.2591 - val_accuracy: 0.9893 - val_loss: 0.0484\n",
      "Epoch 16/16\n",
      "\u001b[1m981/981\u001b[0m \u001b[32m━━━━━━━━━━━━━━━━━━━━\u001b[0m\u001b[37m\u001b[0m \u001b[1m168s\u001b[0m 172ms/step - accuracy: 0.9417 - loss: 0.2273 - val_accuracy: 0.9834 - val_loss: 0.0744\n"
     ]
    }
   ],
   "source": [
    "model.compile(optimizer= 'adam', loss='categorical_crossentropy', metrics=['accuracy'])\n",
    "hist =  model.fit(trainX,train_y, epochs = 16, validation_data=(testX,test_y),batch_size=32)\n",
    "             "
   ]
  },
  {
   "cell_type": "code",
   "execution_count": 165,
   "id": "b6967b67-43d2-44c8-8823-031a95074f04",
   "metadata": {},
   "outputs": [
    {
     "name": "stderr",
     "output_type": "stream",
     "text": [
      "WARNING:absl:You are saving your model as an HDF5 file via `model.save()` or `keras.saving.save_model(model)`. This file format is considered legacy. We recommend using instead the native Keras format, e.g. `model.save('my_model.keras')` or `keras.saving.save_model(model, 'my_model.keras')`. \n"
     ]
    }
   ],
   "source": [
    "model.save(general_path+'\\\\model_traffic.h5')"
   ]
  },
  {
   "cell_type": "code",
   "execution_count": 171,
   "id": "ab115be0-e7ba-406e-a57d-88dc14735e1b",
   "metadata": {},
   "outputs": [],
   "source": [
    "pickle.dump(hist.history,open(general_path+'\\\\hist.h5','wb'))"
   ]
  },
  {
   "cell_type": "code",
   "execution_count": 175,
   "id": "58446f8b-4c15-46c1-a808-c76097cf6e0b",
   "metadata": {},
   "outputs": [
    {
     "name": "stderr",
     "output_type": "stream",
     "text": [
      "WARNING:absl:Compiled the loaded model, but the compiled metrics have yet to be built. `model.compile_metrics` will be empty until you train or evaluate the model.\n"
     ]
    }
   ],
   "source": [
    "trainX = pickle.load(open(general_path+'\\\\trainX.h5','rb'))\n",
    "testX = pickle.load(open(general_path+'\\\\testX.h5','rb'))\n",
    "trainY = pickle.load(open(general_path+'\\\\trainY.h5','rb'))\n",
    "testY = pickle.load(open(general_path+'\\\\testY.h5','rb'))\n",
    "history = pickle.load(open(general_path+'\\\\hist.h5','rb'))\n",
    "\n",
    "model = load_model(general_path+'\\\\model_traffic.h5')\n"
   ]
  },
  {
   "cell_type": "code",
   "execution_count": 177,
   "id": "d0068858-9d5a-4554-a174-1a834166da34",
   "metadata": {},
   "outputs": [
    {
     "data": {
      "text/plain": [
       "{'accuracy': [0.3306978642940521,\n",
       "  0.6861670017242432,\n",
       "  0.8084292411804199,\n",
       "  0.8551343679428101,\n",
       "  0.877068281173706,\n",
       "  0.8946663737297058,\n",
       "  0.9058883786201477,\n",
       "  0.9147830605506897,\n",
       "  0.9218924641609192,\n",
       "  0.9202983975410461,\n",
       "  0.9253674149513245,\n",
       "  0.9335926175117493,\n",
       "  0.9334970116615295,\n",
       "  0.9368444681167603,\n",
       "  0.9398412108421326,\n",
       "  0.9382153153419495],\n",
       " 'loss': [2.468153238296509,\n",
       "  1.0669623613357544,\n",
       "  0.661652684211731,\n",
       "  0.4955218732357025,\n",
       "  0.4302230179309845,\n",
       "  0.3788866400718689,\n",
       "  0.3323820233345032,\n",
       "  0.3078530430793762,\n",
       "  0.2943812310695648,\n",
       "  0.29632431268692017,\n",
       "  0.2769435942173004,\n",
       "  0.25303253531455994,\n",
       "  0.2485640048980713,\n",
       "  0.24558250606060028,\n",
       "  0.2383517324924469,\n",
       "  0.24367845058441162],\n",
       " 'val_accuracy': [0.7408824563026428,\n",
       "  0.9205560088157654,\n",
       "  0.9417240619659424,\n",
       "  0.9565162062644958,\n",
       "  0.9529456496238708,\n",
       "  0.9738587141036987,\n",
       "  0.9806171655654907,\n",
       "  0.9781943559646606,\n",
       "  0.97118079662323,\n",
       "  0.973093569278717,\n",
       "  0.9741137623786926,\n",
       "  0.9776842594146729,\n",
       "  0.9889059066772461,\n",
       "  0.9827849864959717,\n",
       "  0.9892884492874146,\n",
       "  0.983422577381134],\n",
       " 'val_loss': [0.9776440858840942,\n",
       "  0.3076394498348236,\n",
       "  0.2448924332857132,\n",
       "  0.17278368771076202,\n",
       "  0.16337402164936066,\n",
       "  0.11132342368364334,\n",
       "  0.09170892089605331,\n",
       "  0.08355304598808289,\n",
       "  0.11111956089735031,\n",
       "  0.11236493289470673,\n",
       "  0.10832652449607849,\n",
       "  0.09201809018850327,\n",
       "  0.047049570828676224,\n",
       "  0.07007954269647598,\n",
       "  0.04843844845890999,\n",
       "  0.0744234248995781]}"
      ]
     },
     "execution_count": 177,
     "metadata": {},
     "output_type": "execute_result"
    }
   ],
   "source": [
    "history"
   ]
  },
  {
   "cell_type": "code",
   "execution_count": 181,
   "id": "c3008731-75cf-4f3e-9c72-6c9b590d124b",
   "metadata": {},
   "outputs": [
    {
     "name": "stdout",
     "output_type": "stream",
     "text": [
      "\u001b[1m246/246\u001b[0m \u001b[32m━━━━━━━━━━━━━━━━━━━━\u001b[0m\u001b[37m\u001b[0m \u001b[1m6s\u001b[0m 25ms/step - accuracy: 0.9822 - loss: 0.0796\n",
      "Accuracy: 98.34 %\n"
     ]
    }
   ],
   "source": [
    "value = model.evaluate(testX,testY)\n",
    "print('Accuracy:',round(value[1]*100,2),'%')"
   ]
  },
  {
   "cell_type": "code",
   "execution_count": 193,
   "id": "45aa3045-f80a-485a-bc2c-fd3380b78217",
   "metadata": {},
   "outputs": [
    {
     "data": {
      "text/plain": [
       "<matplotlib.legend.Legend at 0x1df98417dd0>"
      ]
     },
     "execution_count": 193,
     "metadata": {},
     "output_type": "execute_result"
    },
    {
     "data": {
      "image/png": "[encoded data removed]",
      "text/plain": [
       "<Figure size 640x480 with 1 Axes>"
      ]
     },
     "metadata": {},
     "output_type": "display_data"
    },
    {
     "data": {
      "image/png": "[encoded data removed]",
      "text/plain": [
       "<Figure size 640x480 with 1 Axes>"
      ]
     },
     "metadata": {},
     "output_type": "display_data"
    }
   ],
   "source": [
    "plt.figure(0)\n",
    "plt.plot(history['accuracy'],label = 'Training Accuracy');\n",
    "plt.plot(history['val_accuracy'],label = 'Val Accuracy');\n",
    "plt.title('Accuracy')\n",
    "plt.xlabel('epochs')\n",
    "plt.ylabel('accuracy');\n",
    "plt.legend()\n",
    "\n",
    "plt.figure(1)\n",
    "plt.plot(history['loss'],label = 'Training Loses');\n",
    "plt.plot(history['val_loss'],label = 'Val Loses');\n",
    "plt.title('Loss')\n",
    "plt.xlabel('epochs')\n",
    "plt.ylabel('loss');\n",
    "plt.legend()\n"
   ]
  },
  {
   "cell_type": "code",
   "execution_count": 207,
   "id": "0a8733ad-3d1b-4923-a5a6-693a0785eb3b",
   "metadata": {},
   "outputs": [],
   "source": [
    "samples = pd.read_csv(general_path + '\\\\Test.csv')\n",
    "imgs_path = samples['Path'].values\n",
    "labels = samples['ClassId'].values\n",
    "\n",
    "photos = []\n",
    "\n",
    "for img in imgs_path:\n",
    "    image = Image.open(general_path+'\\\\'+img)\n",
    "    image = image.resize((30,30))\n",
    "    image = np.array(image)\n",
    "    photos.append(image)\n",
    "\n",
    "\n",
    "\n"
   ]
  },
  {
   "cell_type": "code",
   "execution_count": 225,
   "id": "72e147fe-8b97-4f4a-a6c5-da8cecdf4ae5",
   "metadata": {},
   "outputs": [
    {
     "name": "stdout",
     "output_type": "stream",
     "text": [
      "\u001b[1m395/395\u001b[0m \u001b[32m━━━━━━━━━━━━━━━━━━━━\u001b[0m\u001b[37m\u001b[0m \u001b[1m11s\u001b[0m 28ms/step\n"
     ]
    }
   ],
   "source": [
    "data = np.array(photos)\n",
    "prediction = model.predict(data)\n",
    "pred_index = np.argmax(prediction,axis=1)"
   ]
  },
  {
   "cell_type": "code",
   "execution_count": 231,
   "id": "b065a7e2-f0df-48a2-b233-56e451bd6d31",
   "metadata": {},
   "outputs": [
    {
     "name": "stdout",
     "output_type": "stream",
     "text": [
      "Accuracy: 94.88 %\n"
     ]
    }
   ],
   "source": [
    "value = accuracy_score(labels,pred_index)*100\n",
    "print('Accuracy:',round(value,2),'%')"
   ]
  },
  {
   "cell_type": "code",
   "execution_count": 255,
   "id": "40641584-df44-407e-a613-b55f8893491f",
   "metadata": {},
   "outputs": [],
   "source": [
    "def classify_image(path):\n",
    "    image = Image.open(path)\n",
    "    image = image.resize((30,30))\n",
    "    image = np.array(image)\n",
    "    plt.imshow(image)\n",
    "    \n",
    "    img = np.expand_dims(image, axis=0)\n",
    "    vect_output = model.predict(img)\n",
    "    index = np.argmax(vect_output)\n",
    "    classes[str(index+1)]\n",
    "    definition = classes[str(index+1)]\n",
    "    \n",
    "    print(definition)"
   ]
  },
  {
   "cell_type": "code",
   "execution_count": 261,
   "id": "30bca1d9-7181-401b-b56b-255d7ad14f3b",
   "metadata": {},
   "outputs": [
    {
     "name": "stdout",
     "output_type": "stream",
     "text": [
      "\u001b[1m1/1\u001b[0m \u001b[32m━━━━━━━━━━━━━━━━━━━━\u001b[0m\u001b[37m\u001b[0m \u001b[1m0s\u001b[0m 65ms/step\n",
      "No vehicles \n",
      "\n"
     ]
    },
    {
     "data": {
      "image/png": "[encoded data removed]",
      "text/plain": [
       "<Figure size 640x480 with 1 Axes>"
      ]
     },
     "metadata": {},
     "output_type": "display_data"
    }
   ],
   "source": [
    "path = 'C:\\\\Users\\\\Abir\\\\Documents\\\\Image processing\\\\Traffic Signs V1\\\\data\\\\Test\\\\00210.png'\n",
    "classify_image(path)"
   ]
  },
  {
   "cell_type": "code",
   "execution_count": null,
   "id": "b1af8bc5-408d-478c-8232-5f7c9eda7102",
   "metadata": {},
   "outputs": [],
   "source": []
  }
 ],
 "metadata": {
  "kernelspec": {
   "display_name": "Python 3 (ipykernel)",
   "language": "python",
   "name": "python3"
  },
  "language_info": {
   "codemirror_mode": {
    "name": "ipython",
    "version": 3
   },
   "file_extension": ".py",
   "mimetype": "text/x-python",
   "name": "python",
   "nbconvert_exporter": "python",
   "pygments_lexer": "ipython3",
   "version": "3.12.7"
  }
 },
 "nbformat": 4,
 "nbformat_minor": 5
}
